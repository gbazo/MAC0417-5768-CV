{
 "cells": [
  {
   "cell_type": "markdown",
   "metadata": {},
   "source": [
    "# EP3.1 – Classificação\n",
    "\n",
    "MAC0417/5768 - Visão e Processamento de Imagens\n",
    "\n",
    "### Gabriel Bazo\n",
    "### NUSP: 10277231\n",
    "\n",
    "[GitHub](https://github.com/gbazo/MAC0417-5768-CV)\n",
    "[Drive](https://drive.google.com/drive/folders/1gIPJ6pSHb_MJU87CrQYfPtb70KO8Erkf?usp=sharing)\n",
    "\n",
    "* Os arquivos gerados estão disponíveis no GitHub"
   ]
  },
  {
   "cell_type": "markdown",
   "metadata": {},
   "source": [
    "## Introdução \n",
    "O objetivo desta segunda parte do exercício programa é a classificação dos objetos de interesse. Este processo consiste em extrair features a partir do conjunto de imagens e gerar um modelo para predição das classes das imagens."
   ]
  },
  {
   "cell_type": "markdown",
   "metadata": {},
   "source": [
    "## Preparação do ambiente de programação\n",
    "### Importando as bibliotecas necessárias para a preparação dos dados"
   ]
  },
  {
   "cell_type": "code",
   "execution_count": 51,
   "metadata": {},
   "outputs": [],
   "source": [
    "import numpy as np\n",
    "import os\n",
    "from matplotlib import pyplot as plt\n",
    "import cv2\n",
    "import random\n",
    "import pickle"
   ]
  },
  {
   "cell_type": "code",
   "execution_count": 24,
   "metadata": {},
   "outputs": [],
   "source": [
    "file_list = []\n",
    "class_list = []\n",
    "\n",
    "# diretório com todas as classes, para o treinamento utilizei as imagens com feret box geradas automaticamente, os 15% processadas manualmente deixei separado para teste no \n",
    "# final, ao todo 919 compuseram esse modelo\n",
    "DATADIR = \"/home/gabriel/Documentos/EP CV/4 - auto/6 - feret box/\"\n",
    "\n",
    "# Todas as classes das minhas imagens\n",
    "CATEGORIES = [\"1 - X_CHA\", \"2- M_TIGELA\", \"3 - X_CAFE\", \"4 - FACA\", \"5 - GARFO\",\n",
    "\t      \"6 - COLHER\", \"7 - GARRAFA\", \"8 - TAÇA\", \"9 - TIGELA\", \"10 - PRATO\"]\n",
    "\n",
    "# Comprimento das imagens que irão para a rede neural\n",
    "IMG_SIZE = 50\n",
    "\n",
    "# Verificando todas as imagens nas pastas\n",
    "for category in CATEGORIES :\n",
    "\tpath = os.path.join(DATADIR, category)\n",
    "\tfor img in os.listdir(path):\n",
    "\t\timg_array = cv2.imread(os.path.join(path, img), cv2.IMREAD_GRAYSCALE)\n",
    "\n",
    "training_data = []\n",
    "\n",
    "# Criação dos dados para treinamento da rede\n",
    "def create_training_data():\n",
    "\tfor category in CATEGORIES :\n",
    "\t\tpath = os.path.join(DATADIR, category)\n",
    "\t\tclass_num = CATEGORIES.index(category)\n",
    "\t\tfor img in os.listdir(path):\n",
    "\t\t\ttry :\n",
    "\t\t\t\timg_array = cv2.imread(os.path.join(path, img), cv2.IMREAD_GRAYSCALE)\n",
    "\t\t\t\tnew_array = cv2.resize(img_array, (IMG_SIZE, IMG_SIZE))\n",
    "\t\t\t\ttraining_data.append([new_array, class_num])\n",
    "\t\t\texcept Exception as e:\n",
    "\t\t\t\tpass\n",
    "\n",
    "create_training_data()\n",
    "\n",
    "random.shuffle(training_data)\n",
    "\n",
    "X = [] #features\n",
    "y = [] #labels\n",
    "\n",
    "for features, label in training_data:\n",
    "\tX.append(features)\n",
    "\ty.append(label)\n",
    "\n",
    "# a conversão do x e y para numpy array input do modelo\n",
    "X = np.array(X).reshape(-1, IMG_SIZE, IMG_SIZE, 1)\n",
    "\n",
    "y = np.array(y)\n",
    "\n",
    "# Criação dos arquivos em disco contendo o modelo\n",
    "pickle_out = open(\"X.pickle\", \"wb\")\n",
    "pickle.dump(X, pickle_out)\n",
    "pickle_out.close()\n",
    "\n",
    "pickle_out = open(\"y.pickle\", \"wb\")\n",
    "pickle.dump(y, pickle_out)\n",
    "pickle_out.close()\n",
    "\n",
    "pickle_in = open(\"X.pickle\", \"rb\")\n",
    "X = pickle.load(pickle_in)"
   ]
  },
  {
   "cell_type": "markdown",
   "metadata": {},
   "source": [
    "### Importando as bibliotecas necessárias para a preparação dos dados\n",
    "\n",
    "A última linha desativa possíveis warnings do Tensorflow"
   ]
  },
  {
   "cell_type": "code",
   "execution_count": 11,
   "metadata": {},
   "outputs": [],
   "source": [
    "import tensorflow as tf \n",
    "from tensorflow.keras.models import Sequential\n",
    "from tensorflow.keras.layers import Dense, Dropout, Activation, Flatten, Conv2D, MaxPooling2D\n",
    "import pickle\n",
    "from keras.models import model_from_json\n",
    "from keras.models import load_model\n",
    "import matplotlib.pyplot as plt\n",
    "\n",
    "tf.compat.v1.disable_eager_execution()"
   ]
  },
  {
   "cell_type": "code",
   "execution_count": 25,
   "metadata": {},
   "outputs": [],
   "source": [
    "# Recuperando os modelos salvo em disco\n",
    "X = pickle.load(open(\"X.pickle\", \"rb\"))\n",
    "y = pickle.load(open(\"y.pickle\", \"rb\"))\n",
    "\n",
    "# normalização dos dados (um pixel varia de 0 a 255)\n",
    "X = X/255.0"
   ]
  },
  {
   "cell_type": "code",
   "execution_count": 27,
   "metadata": {},
   "outputs": [
    {
     "name": "stdout",
     "output_type": "stream",
     "text": [
      "Epoch 1/40\n",
      "26/26 [==============================] - 1s 31ms/step - loss: 2.3009 - accuracy: 0.1142 - val_loss: 2.2527 - val_accuracy: 0.1429\n",
      "Epoch 2/40\n",
      "26/26 [==============================] - 1s 28ms/step - loss: 2.2330 - accuracy: 0.1916 - val_loss: 2.1752 - val_accuracy: 0.1758\n",
      "Epoch 3/40\n",
      "26/26 [==============================] - 1s 28ms/step - loss: 2.1226 - accuracy: 0.2294 - val_loss: 2.1194 - val_accuracy: 0.1978\n",
      "Epoch 4/40\n",
      "26/26 [==============================] - 1s 27ms/step - loss: 1.9896 - accuracy: 0.2686 - val_loss: 1.9904 - val_accuracy: 0.1978\n",
      "Epoch 5/40\n",
      "26/26 [==============================] - 1s 28ms/step - loss: 1.8652 - accuracy: 0.2857 - val_loss: 2.0229 - val_accuracy: 0.1758\n",
      "Epoch 6/40\n",
      "26/26 [==============================] - 1s 43ms/step - loss: 1.7503 - accuracy: 0.3088 - val_loss: 1.8963 - val_accuracy: 0.2857\n",
      "Epoch 7/40\n",
      "26/26 [==============================] - 1s 50ms/step - loss: 1.5470 - accuracy: 0.3762 - val_loss: 1.7665 - val_accuracy: 0.3297\n",
      "Epoch 8/40\n",
      "26/26 [==============================] - 1s 40ms/step - loss: 1.4021 - accuracy: 0.4746 - val_loss: 1.7320 - val_accuracy: 0.4505\n",
      "Epoch 9/40\n",
      "26/26 [==============================] - 1s 37ms/step - loss: 1.2985 - accuracy: 0.4944 - val_loss: 1.7197 - val_accuracy: 0.4066\n",
      "Epoch 10/40\n",
      "26/26 [==============================] - 1s 37ms/step - loss: 1.1208 - accuracy: 0.5668 - val_loss: 1.7968 - val_accuracy: 0.3626\n",
      "Epoch 11/40\n",
      "26/26 [==============================] - 1s 37ms/step - loss: 1.0296 - accuracy: 0.6163 - val_loss: 1.6901 - val_accuracy: 0.4945\n",
      "Epoch 12/40\n",
      "26/26 [==============================] - 1s 38ms/step - loss: 0.9022 - accuracy: 0.6692 - val_loss: 1.6112 - val_accuracy: 0.5385\n",
      "Epoch 13/40\n",
      "26/26 [==============================] - 1s 38ms/step - loss: 0.9192 - accuracy: 0.6119 - val_loss: 1.6864 - val_accuracy: 0.5055\n",
      "Epoch 14/40\n",
      "26/26 [==============================] - 1s 37ms/step - loss: 0.7222 - accuracy: 0.7259 - val_loss: 1.5360 - val_accuracy: 0.5714\n",
      "Epoch 15/40\n",
      "26/26 [==============================] - 1s 37ms/step - loss: 0.6354 - accuracy: 0.7366 - val_loss: 1.6122 - val_accuracy: 0.5824\n",
      "Epoch 16/40\n",
      "26/26 [==============================] - 1s 37ms/step - loss: 0.6183 - accuracy: 0.7560 - val_loss: 1.6631 - val_accuracy: 0.5824\n",
      "Epoch 17/40\n",
      "26/26 [==============================] - 1s 38ms/step - loss: 0.5777 - accuracy: 0.7790 - val_loss: 1.6747 - val_accuracy: 0.6044\n",
      "Epoch 18/40\n",
      "26/26 [==============================] - 1s 37ms/step - loss: 0.5175 - accuracy: 0.7949 - val_loss: 1.6283 - val_accuracy: 0.5714\n",
      "Epoch 19/40\n",
      "26/26 [==============================] - 1s 37ms/step - loss: 0.4642 - accuracy: 0.8030 - val_loss: 1.5997 - val_accuracy: 0.5055\n",
      "Epoch 20/40\n",
      "26/26 [==============================] - 1s 37ms/step - loss: 0.4442 - accuracy: 0.8335 - val_loss: 1.8064 - val_accuracy: 0.5714\n",
      "Epoch 21/40\n",
      "26/26 [==============================] - 1s 37ms/step - loss: 0.3736 - accuracy: 0.8543 - val_loss: 1.8563 - val_accuracy: 0.5934\n",
      "Epoch 22/40\n",
      "26/26 [==============================] - 1s 37ms/step - loss: 0.3882 - accuracy: 0.8501 - val_loss: 1.9064 - val_accuracy: 0.5385\n",
      "Epoch 23/40\n",
      "26/26 [==============================] - 1s 38ms/step - loss: 0.3918 - accuracy: 0.8466 - val_loss: 1.8392 - val_accuracy: 0.5165\n",
      "Epoch 24/40\n",
      "26/26 [==============================] - 1s 37ms/step - loss: 0.3591 - accuracy: 0.8729 - val_loss: 1.8277 - val_accuracy: 0.5385\n",
      "Epoch 25/40\n",
      "26/26 [==============================] - 1s 37ms/step - loss: 0.3514 - accuracy: 0.8599 - val_loss: 2.0870 - val_accuracy: 0.5385\n",
      "Epoch 26/40\n",
      "26/26 [==============================] - 1s 37ms/step - loss: 0.3519 - accuracy: 0.8609 - val_loss: 1.8337 - val_accuracy: 0.5604\n",
      "Epoch 27/40\n",
      "26/26 [==============================] - 1s 37ms/step - loss: 0.2996 - accuracy: 0.9003 - val_loss: 1.9586 - val_accuracy: 0.5385\n",
      "Epoch 28/40\n",
      "26/26 [==============================] - 1s 38ms/step - loss: 0.2841 - accuracy: 0.8933 - val_loss: 1.9632 - val_accuracy: 0.5385\n",
      "Epoch 29/40\n",
      "26/26 [==============================] - 1s 37ms/step - loss: 0.2799 - accuracy: 0.8934 - val_loss: 2.1089 - val_accuracy: 0.5275\n",
      "Epoch 30/40\n",
      "26/26 [==============================] - 1s 37ms/step - loss: 0.2871 - accuracy: 0.8839 - val_loss: 1.9426 - val_accuracy: 0.5934\n",
      "Epoch 31/40\n",
      "26/26 [==============================] - 1s 39ms/step - loss: 0.2144 - accuracy: 0.9396 - val_loss: 2.0989 - val_accuracy: 0.5604\n",
      "Epoch 32/40\n",
      "26/26 [==============================] - 1s 37ms/step - loss: 0.1786 - accuracy: 0.9393 - val_loss: 2.1273 - val_accuracy: 0.5714\n",
      "Epoch 33/40\n",
      "26/26 [==============================] - 1s 37ms/step - loss: 0.2298 - accuracy: 0.9231 - val_loss: 2.0233 - val_accuracy: 0.5604\n",
      "Epoch 34/40\n",
      "26/26 [==============================] - 1s 37ms/step - loss: 0.1611 - accuracy: 0.9382 - val_loss: 2.1443 - val_accuracy: 0.6044\n",
      "Epoch 35/40\n",
      "26/26 [==============================] - 1s 37ms/step - loss: 0.1688 - accuracy: 0.9384 - val_loss: 2.2679 - val_accuracy: 0.5714\n",
      "Epoch 36/40\n",
      "26/26 [==============================] - 1s 37ms/step - loss: 0.1986 - accuracy: 0.9116 - val_loss: 2.1891 - val_accuracy: 0.5385\n",
      "Epoch 37/40\n",
      "26/26 [==============================] - 1s 37ms/step - loss: 0.1873 - accuracy: 0.9369 - val_loss: 2.3103 - val_accuracy: 0.5824\n",
      "Epoch 38/40\n",
      "26/26 [==============================] - 1s 38ms/step - loss: 0.1162 - accuracy: 0.9622 - val_loss: 2.1913 - val_accuracy: 0.5934\n",
      "Epoch 39/40\n",
      "26/26 [==============================] - 1s 37ms/step - loss: 0.1581 - accuracy: 0.9470 - val_loss: 2.2013 - val_accuracy: 0.6154\n",
      "Epoch 40/40\n",
      "26/26 [==============================] - 1s 38ms/step - loss: 0.1558 - accuracy: 0.9540 - val_loss: 2.1674 - val_accuracy: 0.6154\n",
      "Saved model to disk\n",
      "INFO:tensorflow:Assets written to: CNN.model/assets\n",
      "dict_keys(['loss', 'accuracy', 'val_loss', 'val_accuracy'])\n"
     ]
    },
    {
     "data": {
      "text/plain": [
       "<matplotlib.legend.Legend at 0x7f5262236a30>"
      ]
     },
     "execution_count": 27,
     "metadata": {},
     "output_type": "execute_result"
    },
    {
     "data": {
      "image/png": "[encoded data removed]",
      "text/plain": [
       "<Figure size 432x288 with 1 Axes>"
      ]
     },
     "metadata": {
      "needs_background": "light"
     },
     "output_type": "display_data"
    }
   ],
   "source": [
    "# Iniciando a construção do modelo\n",
    "model = Sequential()\n",
    "\n",
    "# Adicionando 3 camadas convolucionais\n",
    "model.add(Conv2D(32, (3, 3), input_shape = X.shape[1:]))\n",
    "model.add(Activation(\"relu\"))\n",
    "model.add(MaxPooling2D(pool_size=(2,2)))\n",
    "\n",
    "model.add(Conv2D(64, (3, 3)))\n",
    "model.add(Activation(\"relu\"))\n",
    "model.add(MaxPooling2D(pool_size=(2,2)))\n",
    "\n",
    "model.add(Conv2D(64, (3, 3)))\n",
    "model.add(Activation(\"relu\"))\n",
    "model.add(MaxPooling2D(pool_size=(2,2)))\n",
    "model.add(Dropout(0.25))\n",
    "\n",
    "# mais duas camadas ocultas, uma com 128 neurônios a segunda com 10 neurônios (número de classes)\n",
    "model.add(Flatten())\n",
    "model.add(Dense(128))\n",
    "model.add(Activation(\"relu\"))\n",
    "\n",
    "model.add(Dense(10))\n",
    "model.add(Activation(\"relu\"))\n",
    "\n",
    "# Camada de saída com 10 neurônios (número de classes)\n",
    "model.add(Dense(10))\n",
    "model.add(Activation(\"softmax\"))\n",
    "\n",
    "# Compilando o modelo\n",
    "model.compile(loss=\"sparse_categorical_crossentropy\",\n",
    "\t\t\t\toptimizer=\"adam\",\n",
    "\t\t\t\tmetrics=[\"accuracy\"])\n",
    "\n",
    "# Treino do modelo com 40 interações\n",
    "# validation_split corresponde à porcentagem de imagens usadas para a fase de validação em comparação com todas as imagens (~92 imagens)\n",
    "history = model.fit(X, y, batch_size=32, epochs=40, validation_split=0.1)\n",
    "\n",
    "# Salvando o modelo treinado\n",
    "model_json = model.to_json()\n",
    "with open(\"model.json\", \"w\") as json_file :\n",
    "\tjson_file.write(model_json)\n",
    "\n",
    "model.save_weights(\"model.h5\")\n",
    "print(\"Saved model to disk\")\n",
    "\n",
    "model.save('CNN.model')\n",
    "\n",
    "# Output com as mudanças de precisão durante a fase de treinamento\n",
    "print(history.history.keys())\n",
    "plt.figure(1)\n",
    "plt.plot(history.history['accuracy'])\n",
    "plt.plot(history.history['val_accuracy'])\n",
    "plt.title('model accuracy')\n",
    "plt.ylabel('accuracy')\n",
    "plt.xlabel('epoch')\n",
    "plt.legend(['train', 'validation'], loc='upper left')"
   ]
  },
  {
   "cell_type": "markdown",
   "metadata": {},
   "source": [
    "### A performance obtida na última interação foi de 95.4% para acurácia no treinamento e 61.5% nas imagens de validação"
   ]
  },
  {
   "cell_type": "markdown",
   "metadata": {},
   "source": [
    "## Predição de uma imagem"
   ]
  },
  {
   "cell_type": "markdown",
   "metadata": {},
   "source": [
    "As categorias foram declaradas novamente (apesar de não ser necessário visto que essa variável já existe), a função a seguir ajusta uma nova imagem para ser testada no modelo desenvolvido "
   ]
  },
  {
   "cell_type": "code",
   "execution_count": 40,
   "metadata": {},
   "outputs": [],
   "source": [
    "CATEGORIES = [\"1 - X_CHA\", \"2- M_TIGELA\", \"3 - X_CAFE\", \"4 - FACA\", \"5 - GARFO\",\n",
    "\t      \"6 - COLHER\", \"7 - GARRAFA\", \"8 - TAÇA\", \"9 - TIGELA\", \"10 - PRATO\"]\n",
    "\n",
    "def prepare(file):\n",
    "    IMG_SIZE = 50\n",
    "    img_array = cv2.imread(file, cv2.IMREAD_GRAYSCALE)\n",
    "    new_array = cv2.resize(img_array, (IMG_SIZE, IMG_SIZE))\n",
    "    return new_array.reshape(-1, IMG_SIZE, IMG_SIZE, 1)"
   ]
  },
  {
   "cell_type": "code",
   "execution_count": 61,
   "metadata": {},
   "outputs": [],
   "source": [
    "teste = prepare(\"/home/gabriel/Documentos/EP CV/3 - manual/5 - imagem com feret box/5 - GARFO/66.jpg\")"
   ]
  },
  {
   "cell_type": "markdown",
   "metadata": {},
   "source": [
    "Plot da imagem que está sendo testada no modelo"
   ]
  },
  {
   "cell_type": "code",
   "execution_count": 57,
   "metadata": {},
   "outputs": [
    {
     "data": {
      "text/plain": [
       "<matplotlib.image.AxesImage at 0x7f5271116be0>"
      ]
     },
     "execution_count": 57,
     "metadata": {},
     "output_type": "execute_result"
    },
    {
     "data": {
      "image/png": "[encoded data removed]",
      "text/plain": [
       "<Figure size 432x288 with 1 Axes>"
      ]
     },
     "metadata": {
      "needs_background": "light"
     },
     "output_type": "display_data"
    }
   ],
   "source": [
    "img = cv2.imread(\"/home/gabriel/Documentos/EP CV/3 - manual/5 - imagem com feret box/5 - GARFO/66.jpg\")\n",
    "plt.imshow(img)"
   ]
  },
  {
   "cell_type": "code",
   "execution_count": 67,
   "metadata": {},
   "outputs": [
    {
     "name": "stdout",
     "output_type": "stream",
     "text": [
      "5 - GARFO\n"
     ]
    }
   ],
   "source": [
    "model = tf.keras.models.load_model(\"CNN.model\")\n",
    "image = teste #your image path\n",
    "prediction = model.predict([image])\n",
    "prediction = list(prediction[0])\n",
    "print(CATEGORIES[prediction.index(max(prediction))])"
   ]
  },
  {
   "cell_type": "markdown",
   "metadata": {},
   "source": [
    "Neste caso o modelo foi capaz de identificar um garfo (acredito ser uma das classes mais difíceis), essa imagem utilizada no teste foi processada manualmente no Gimp e não estava presente no treinamento do modelo, para minha surpresa o mesmo conseguiu acertar."
   ]
  }
 ],
 "metadata": {
  "kernelspec": {
   "display_name": "Python 3",
   "language": "python",
   "name": "python3"
  },
  "language_info": {
   "codemirror_mode": {
    "name": "ipython",
    "version": 3
   },
   "file_extension": ".py",
   "mimetype": "text/x-python",
   "name": "python",
   "nbconvert_exporter": "python",
   "pygments_lexer": "ipython3",
   "version": "3.8.5"
  }
 },
 "nbformat": 4,
 "nbformat_minor": 4
}
